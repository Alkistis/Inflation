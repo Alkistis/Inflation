{
 "cells": [
  {
   "cell_type": "markdown",
   "metadata": {},
   "source": [
    "Author: Alkistis Pourtsidou, ICG Portsmouth\n",
    "\n",
    "Using part of http://camb.readthedocs.io/en/latest/CAMBdemo.html \n",
    "\n",
    "To run this Jupyter notebook you need to have CAMB and the CAMB python package \n",
    "installed. In order to install the CAMB python package on your computer follow\n",
    "the instructions in http://camb.readthedocs.io/en/latest/"
   ]
  },
  {
   "cell_type": "code",
   "execution_count": 1,
   "metadata": {
    "collapsed": false
   },
   "outputs": [],
   "source": [
    "%matplotlib inline\n",
    "import sys, platform, os\n",
    "\n",
    "from matplotlib import pyplot as plt\n",
    "import numpy as np\n",
    "\n",
    "import camb\n",
    "from camb import model, initialpower"
   ]
  },
  {
   "cell_type": "code",
   "execution_count": 2,
   "metadata": {
    "collapsed": false
   },
   "outputs": [],
   "source": [
    "import scipy\n",
    "from scipy.interpolate import interp1d\n",
    "from __future__ import division"
   ]
  },
  {
   "cell_type": "code",
   "execution_count": 3,
   "metadata": {
    "collapsed": true
   },
   "outputs": [],
   "source": [
    "font = {'size'   : 16, 'family':'STIXGeneral'}\n",
    "axislabelfontsize='x-large'\n",
    "plt.rc('font', **font)\n",
    "plt.rcParams['legend.fontsize']='medium'"
   ]
  },
  {
   "cell_type": "code",
   "execution_count": 4,
   "metadata": {
    "collapsed": false
   },
   "outputs": [],
   "source": [
    "from scipy import integrate\n",
    "from scipy import linalg\n",
    "\n",
    "pi=np.pi"
   ]
  },
  {
   "cell_type": "code",
   "execution_count": 5,
   "metadata": {
    "collapsed": false
   },
   "outputs": [],
   "source": [
    "#Fiducial cosmological parameters\n",
    "c=3e5\n",
    "hubble=0.675\n",
    "omegab=0.022*pow(hubble,-2)\n",
    "omegac=0.119*pow(hubble,-2)\n",
    "om0=omegac+omegab\n",
    "H00=100*hubble\n",
    "Ass=2.14e-9\n",
    "\n",
    "nss = 0.9655\n",
    "alphass = 0.0\n",
    "betass = 0.0\n",
    "\n",
    "gamma=0.545\n",
    "\n",
    "kpivot = 0.05 "
   ]
  },
  {
   "cell_type": "code",
   "execution_count": 6,
   "metadata": {
    "collapsed": false
   },
   "outputs": [],
   "source": [
    "#Set up the fiducial cosmology\n",
    "pars = camb.CAMBparams()\n",
    "#Set cosmology\n",
    "pars.set_cosmology(H0=H00, ombh2=omegab*pow(hubble,2), omch2=omegac*pow(hubble,2),omk=0,mnu=0)\n",
    "pars.set_dark_energy() #LCDM (default)\n",
    "pars.InitPower.set_params(ns=nss, r=0, As=Ass, nrun=alphass, nrunrun=betass, pivot_scalar=kpivot)\n",
    "pars.set_for_lmax(2500, lens_potential_accuracy=0);"
   ]
  },
  {
   "cell_type": "code",
   "execution_count": 7,
   "metadata": {
    "collapsed": false
   },
   "outputs": [],
   "source": [
    "#calculate results for these parameters\n",
    "results = camb.get_results(pars)\n",
    "#print pars"
   ]
  },
  {
   "cell_type": "code",
   "execution_count": 8,
   "metadata": {
    "collapsed": false
   },
   "outputs": [],
   "source": [
    "#Get matter power spectrum at z=0: P(k,z=0)\n",
    "#Not non-linear corrections couples to smaller scales than you want\n",
    "pars.set_matter_power(redshifts=[0.], kmax=2.0)\n",
    "#Non-Linear spectra (Halofit)\n",
    "pars.NonLinear = model.NonLinear_both\n",
    "results.calc_power_spectra(pars)\n",
    "kh, z, pk = results.get_matter_power_spectrum(minkh=1e-5, maxkh=1.0, npoints = 800)"
   ]
  },
  {
   "cell_type": "code",
   "execution_count": 9,
   "metadata": {
    "collapsed": false
   },
   "outputs": [],
   "source": [
    "#Construct P(k,z=0) interpolating function, in units of Mpc (no h)\n",
    "Pkz0 = interp1d(kh*hubble, pk[0]/pow(hubble,3))"
   ]
  },
  {
   "cell_type": "code",
   "execution_count": 10,
   "metadata": {
    "collapsed": false
   },
   "outputs": [],
   "source": [
    "#Derivatives\n",
    "\n",
    "def dlogPd_dns(kk):\n",
    "    return np.log(kk/kpivot)\n",
    "\n",
    "def dlogPd_dalphas(kk):\n",
    "    return (1./2)*pow(np.log(kk/kpivot),2)\n",
    "\n",
    "def dlogPd_dbetas(kk):\n",
    "    return (1./6)*pow(np.log(kk/kpivot),3)"
   ]
  },
  {
   "cell_type": "code",
   "execution_count": 11,
   "metadata": {
    "collapsed": false
   },
   "outputs": [
    {
     "name": "stdout",
     "output_type": "stream",
     "text": [
      "ztest = 1.8\n",
      "Number of redshift bins = 17\n"
     ]
    }
   ],
   "source": [
    "#Redshift bins\n",
    "\n",
    "zlist = np.arange(0.8,2.5,0.1)\n",
    "ztest = zlist[10]\n",
    "Nzbins = len(zlist)\n",
    "\n",
    "#print zlist\n",
    "print \"ztest =\", ztest\n",
    "print \"Number of redshift bins =\", Nzbins"
   ]
  },
  {
   "cell_type": "code",
   "execution_count": 12,
   "metadata": {
    "collapsed": false
   },
   "outputs": [
    {
     "name": "stdout",
     "output_type": "stream",
     "text": [
      "1.8 5022.5527092 1793.76882471\n"
     ]
    }
   ],
   "source": [
    "midfreq = 1420.4e6 #Hz\n",
    "\n",
    "#Spatially flat Universe\n",
    "\n",
    "#Define E(z) = H(z)/H0\n",
    "def Ez(zc):\n",
    "    return np.sqrt(1-om0+om0*pow(1+zc,3))\n",
    "def Hz(zc):\n",
    "    return Ez(zc)*H00\n",
    "#Define the comoving distances\n",
    "def drdz(zp):\n",
    "    return (c/H00)/Ez(zp)\n",
    "def rcom(zc):\n",
    "    return scipy.integrate.romberg(drdz,0,zc)\n",
    "def DA(zc):\n",
    "    return rcom(zc)/(1+zc)\n",
    "\n",
    "def ynu(zc):\n",
    "    return c*pow(1+zc,2)/(midfreq*Hz(zc))\n",
    "\n",
    "print ztest, rcom(ztest), DA(ztest)"
   ]
  },
  {
   "cell_type": "code",
   "execution_count": 13,
   "metadata": {
    "collapsed": false
   },
   "outputs": [
    {
     "name": "stdout",
     "output_type": "stream",
     "text": [
      "0.948607572137\n"
     ]
    }
   ],
   "source": [
    "#Define the growth function in LCDM\n",
    "def fg(zz):\n",
    "    omz=om0*pow(1+zz,3)/pow(Ez(zz),2)\n",
    "    return pow(omz,gamma)\n",
    "\n",
    "print fg(ztest)"
   ]
  },
  {
   "cell_type": "code",
   "execution_count": 14,
   "metadata": {
    "collapsed": false
   },
   "outputs": [
    {
     "name": "stdout",
     "output_type": "stream",
     "text": [
      "0.446367370944\n"
     ]
    }
   ],
   "source": [
    "#Get the growth factor \n",
    "def Dg_dz(zz):\n",
    "    return -fg(zz)/(1+zz)\n",
    "\n",
    "def Dgz(zc):\n",
    "    ans = scipy.integrate.romberg(Dg_dz, 0.0, zc)\n",
    "    return np.exp(ans)\n",
    "\n",
    "print Dgz(ztest)"
   ]
  },
  {
   "cell_type": "code",
   "execution_count": 15,
   "metadata": {
    "collapsed": false
   },
   "outputs": [
    {
     "name": "stdout",
     "output_type": "stream",
     "text": [
      "1.156 0.0009714\n"
     ]
    }
   ],
   "source": [
    "#fiducial bHI from Bull et al 2015\n",
    "def bHI(zc):\n",
    "    return 0.67+0.18*zc+0.05*pow(zc,2)\n",
    "\n",
    "#fiducial OmHI Mario's fit\n",
    "def OmHI(zc):\n",
    "    return 0.00048+0.00039*zc-0.000065*pow(zc,2)\n",
    "\n",
    "print bHI(ztest), OmHI(ztest)"
   ]
  },
  {
   "cell_type": "code",
   "execution_count": 16,
   "metadata": {
    "collapsed": false
   },
   "outputs": [],
   "source": [
    "#Construct P(k,μ,z) \n",
    "def beta(zc):\n",
    "    return fg(zc)/bHI(zc)\n",
    "\n",
    "def Pkz(kk,mu,zc):    \n",
    "    return pow(1+beta(zc)*mu**2,2)*pow(Dgz(zc),2)*Pkz0(kk)"
   ]
  },
  {
   "cell_type": "code",
   "execution_count": 17,
   "metadata": {
    "collapsed": false
   },
   "outputs": [
    {
     "name": "stdout",
     "output_type": "stream",
     "text": [
      "1.8 0.39646\n"
     ]
    }
   ],
   "source": [
    "#mean brightness temperature [mK] Mario's fit\n",
    "def Tb(zc):\n",
    "    return 0.0559+0.2324*zc-0.024*pow(zc,2)\n",
    "\n",
    "print ztest, Tb(ztest)"
   ]
  },
  {
   "cell_type": "code",
   "execution_count": 18,
   "metadata": {
    "collapsed": false
   },
   "outputs": [],
   "source": [
    "#Construct P_HI(k,μ,z), Tb assumed known\n",
    "def PHI(kk,mu,zc):\n",
    "    return pow(bHI(zc),2)*Pkz(kk,mu,zc)"
   ]
  },
  {
   "cell_type": "code",
   "execution_count": 19,
   "metadata": {
    "collapsed": true
   },
   "outputs": [],
   "source": [
    "def lam(zc):\n",
    "    return 21*(1+zc)\n",
    "\n",
    "def thetab(zc):\n",
    "    return lam(zc)/Ddish\n",
    "\n",
    "def omegapix(zc):\n",
    "    return 1.13*pow(thetab(zc),2)"
   ]
  },
  {
   "cell_type": "code",
   "execution_count": 20,
   "metadata": {
    "collapsed": false
   },
   "outputs": [
    {
     "name": "stdout",
     "output_type": "stream",
     "text": [
      "fsky = 0.363609919279\n",
      "fcover = 0.589824\n"
     ]
    }
   ],
   "source": [
    "#Interferometer noise specs\n",
    "\n",
    "Tsys = 50.0*1e3 #mK\n",
    "Nd = 1024 #number of elements\n",
    "Ddish = 6.0*100 #cm \n",
    "Dmax = 250.0*100 #max baseline in cm\n",
    "\n",
    "#Define (instantaneous) FOV separately\n",
    "def FOV(zc): \n",
    "    return pow(lam(zc)/Ddish,2)\n",
    "\n",
    "Area = 15000 #deg^2\n",
    "\n",
    "fsky=Area/41253\n",
    "print \"fsky =\", fsky\n",
    "\n",
    "omegatot = Area*pow(pi/180,2)\n",
    "ttotal = 10000*60*60 #sec\n",
    "\n",
    "Dzbin = 0.1\n",
    "\n",
    "#filling factor check (has to be < 1)\n",
    "ff = Nd*(Ddish/Dmax)**2\n",
    "print \"fcover =\", ff\n",
    "\n",
    "#noise PS\n",
    "def Pnoise(kk,zc,Tsys):\n",
    "    Ae = pi*(Ddish/2)**2\n",
    "    nu = (Nd*(Nd-1))*lam(zc)**2/(2*pi*(Dmax**2-Ddish**2)) #full expression for nu\n",
    "    np = 2\n",
    "    #note division with Tb^2\n",
    "    return (1/pow(Tb(zc),2))*(lam(zc)**4*rcom(zc)**2*ynu(zc)*Tsys**2*omegatot)/(np*Ae**2*FOV(zc)*nu*ttotal) "
   ]
  },
  {
   "cell_type": "code",
   "execution_count": 21,
   "metadata": {
    "collapsed": false
   },
   "outputs": [
    {
     "name": "stdout",
     "output_type": "stream",
     "text": [
      "0.8 0.0346395852884 0.14864884108 1.44331605368\n",
      "0.9 0.0299736312171 0.154169231521 1.24890130071\n",
      "1.0 0.026326219257 0.159595782335 1.09692580237\n",
      "1.1 0.0234068859676 0.164934667994 0.975286915319\n",
      "1.2 0.0210243041126 0.170191383714 0.876012671357\n",
      "1.3 0.0190476660664 0.17537084751 0.793652752766\n",
      "1.4 0.0173847314716 0.180477483171 0.724363811315\n",
      "1.5 0.0159687332006 0.185515288356 0.665363883359\n",
      "1.6 0.0147502467758 0.190487890971 0.614593615656\n",
      "1.7 0.0136919664849 0.195398596213 0.570498603537\n",
      "1.8 0.0127652489679 0.200250426112 0.531885373665\n",
      "1.9 0.0119477669927 0.205046153 0.497823624698\n",
      "2.0 0.0112218806076 0.209788328003 0.467578358652\n",
      "2.1 0.0105734835009 0.214479305448 0.440561812539\n",
      "2.2 0.00999117125922 0.219121263881 0.416298802467\n",
      "2.3 0.00946563198218 0.223716224248 0.394401332591\n",
      "2.4 0.00898919328586 0.228266065716 0.374549720244\n"
     ]
    }
   ],
   "source": [
    "def kmin(zc): \n",
    "    return 2*pi*Ddish/(rcom(zc)*lam(zc))\n",
    "\n",
    "def kmax_int(zc): #instrumental cutoff\n",
    "    return 2*pi*Dmax/(rcom(zc)*lam(zc))\n",
    "\n",
    "def kmax(zc): #non-linear cutoff (Smith et al 2003)\n",
    "    kNL = 0.1\n",
    "    #kNL = 0.14\n",
    "    return kNL*pow(1+zc,2/(2+nss))\n",
    "\n",
    "for zi in range(0,Nzbins):\n",
    "    zc = zlist[zi]\n",
    "    print zc, kmin(zc), kmax(zc), kmax_int(zc)"
   ]
  },
  {
   "cell_type": "code",
   "execution_count": 22,
   "metadata": {
    "collapsed": false
   },
   "outputs": [
    {
     "name": "stdout",
     "output_type": "stream",
     "text": [
      "1.872e+10\n"
     ]
    }
   ],
   "source": [
    "#survey (bin) volume [Mpc^3]\n",
    "def dVsurdz(zz):    \n",
    "    return omegatot*c*pow(rcom(zz),2)/(H00*Ez(zz))\n",
    "    \n",
    "def Vsur(zc):\n",
    "    return scipy.integrate.romberg(dVsurdz,zc-Dzbin/2,zc+Dzbin/2)\n",
    "\n",
    "#effective volume going in the Fisher matrix\n",
    "def Veff(kk,mu,zc):\n",
    "    return Vsur(zc)*(PHI(kk,mu,zc)/(PHI(kk,mu,zc)+Pnoise(kk,zc,Tsys)))**2\n",
    "\n",
    "print \"%.4g\" % Vsur(ztest)"
   ]
  },
  {
   "cell_type": "code",
   "execution_count": 23,
   "metadata": {
    "collapsed": false
   },
   "outputs": [],
   "source": [
    "def dF(kk,mu):\n",
    "    return (1./(8*pi*pi))*pow(kk,2)*deriv_i(kk,mu,zc)*deriv_j(kk,mu,zc)*Veff(kk,mu,zc)    "
   ]
  },
  {
   "cell_type": "code",
   "execution_count": 24,
   "metadata": {
    "collapsed": true
   },
   "outputs": [],
   "source": [
    "#2D integration function\n",
    "def integrate2D(dfun, kgrid, mugrid):\n",
    "    \n",
    "    muint = [scipy.integrate.simps(dfun.T[i], mugrid) for i in range(kgrid.size)]\n",
    "    return scipy.integrate.simps(muint, kgrid)"
   ]
  },
  {
   "cell_type": "code",
   "execution_count": 25,
   "metadata": {
    "collapsed": false
   },
   "outputs": [],
   "source": [
    "mugrid = np.linspace(-1., 1., 513) "
   ]
  },
  {
   "cell_type": "code",
   "execution_count": 26,
   "metadata": {
    "collapsed": false
   },
   "outputs": [],
   "source": [
    "#Fisher matrix parameters \n",
    "params = [\"0:ns\",\"1:alphas\",\"2:betas\"]"
   ]
  },
  {
   "cell_type": "code",
   "execution_count": 27,
   "metadata": {
    "collapsed": false
   },
   "outputs": [],
   "source": [
    "#%%time\n",
    "#   Fisher matrix   # \n",
    "\n",
    "Npar = 2 #Npar = 3\n",
    "#create array of zeros\n",
    "s = Npar\n",
    "\n",
    "Fishermat = np.zeros([s,s])\n",
    "\n",
    "for zi in range(0,Nzbins):\n",
    "    zc = zlist[zi]\n",
    "    if kmax_int(zc) < kmax(zc): kmaxx = kmax_int(zc)\n",
    "    else: kmaxx = kmax(zc)    \n",
    "    kgrid = np.linspace(kmin(zc), kmaxx, 513)\n",
    "    if kpivot < kmin(zc) or kpivot > kmaxx: raise ValueError(\"kpivot out of range\")\n",
    "    K, MU = np.meshgrid(kgrid, mugrid)\n",
    "    for i in range(0,Npar):  \n",
    "        def deriv_i(kk,mu,zc):\n",
    "            if i==0:  return dlogPd_dns(kk)\n",
    "            elif i==1:  return dlogPd_dalphas(kk)\n",
    "            elif i==2:  return dlogPd_dbetas(kk)\n",
    "            else: print \"out of range\"\n",
    "        for  j in range(0,Npar):\n",
    "            if j>=i:\n",
    "                def deriv_j(kk,mu,zc):\n",
    "                    if j==0:  return dlogPd_dns(kk)\n",
    "                    elif j==1:  return dlogPd_dalphas(kk)\n",
    "                    elif j==2:  return dlogPd_dbetas(kk)\n",
    "                    else: print \"index out of range\" \n",
    "                Fishermat[i][j] += integrate2D(dF(K,MU),kgrid,mugrid)\n",
    "            else: Fishermat[i,j] = Fishermat[j,i]"
   ]
  },
  {
   "cell_type": "code",
   "execution_count": 28,
   "metadata": {
    "collapsed": false
   },
   "outputs": [
    {
     "name": "stdout",
     "output_type": "stream",
     "text": [
      "[[ 3840051.35614167  2139024.24106506]\n",
      " [ 2139024.24106506  1272443.28746716]]\n"
     ]
    }
   ],
   "source": [
    "print Fishermat"
   ]
  },
  {
   "cell_type": "code",
   "execution_count": 29,
   "metadata": {
    "collapsed": false
   },
   "outputs": [
    {
     "name": "stdout",
     "output_type": "stream",
     "text": [
      "[[  4.09378916e-06  -6.88181103e-06]\n",
      " [ -6.88181103e-06   1.23544686e-05]]\n"
     ]
    }
   ],
   "source": [
    "print linalg.inv(Fishermat)"
   ]
  },
  {
   "cell_type": "code",
   "execution_count": 30,
   "metadata": {
    "collapsed": false
   },
   "outputs": [
    {
     "name": "stdout",
     "output_type": "stream",
     "text": [
      "0.00202331143477\n",
      "0.00351489240046\n"
     ]
    }
   ],
   "source": [
    "#print marginalised uncertainties on (ns,alphas,betas)\n",
    "for i in range(0,Npar):\n",
    "    print np.sqrt(linalg.inv(Fishermat)[i,i])"
   ]
  },
  {
   "cell_type": "code",
   "execution_count": null,
   "metadata": {
    "collapsed": true
   },
   "outputs": [],
   "source": []
  }
 ],
 "metadata": {
  "kernelspec": {
   "display_name": "Python 2",
   "language": "python",
   "name": "python2"
  },
  "language_info": {
   "codemirror_mode": {
    "name": "ipython",
    "version": 2
   },
   "file_extension": ".py",
   "mimetype": "text/x-python",
   "name": "python",
   "nbconvert_exporter": "python",
   "pygments_lexer": "ipython2",
   "version": "2.7.12"
  }
 },
 "nbformat": 4,
 "nbformat_minor": 0
}
